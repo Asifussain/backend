{
 "cells": [
  {
   "cell_type": "code",
   "execution_count": 1,
   "id": "54c494e1",
   "metadata": {},
   "outputs": [
    {
     "name": "stdout",
     "output_type": "stream",
     "text": [
      "Use CPU\n",
      "Building model\n",
      ">>>>>>>testing on given sample: ADSZ-IndepftM_sl128_ll48_pl96_dm128_nh8_el6_dl1_df256_fc1_ebtimeF_dtTrue'Exp'<<<<<<<<<\n"
     ]
    },
    {
     "name": "stderr",
     "output_type": "stream",
     "text": [
      "Traceback (most recent call last):\n",
      "  File \"c:\\Users\\sathw\\OneDrive\\Desktop\\alzheimer-detection-app\\backend\\SIDDHI\\run.py\", line 139, in <module>\n",
      "    exp.predict_unlabeled_sample(args.input_file, setting)\n",
      "  File \"c:\\Users\\sathw\\OneDrive\\Desktop\\alzheimer-detection-app\\backend\\SIDDHI\\exp\\exp_classification.py\", line 52, in predict_unlabeled_sample\n",
      "    self.model.load_state_dict(torch.load(model_path))\n",
      "  File \"c:\\Users\\sathw\\AppData\\Local\\Programs\\Python\\Python39\\lib\\site-packages\\torch\\serialization.py\", line 1360, in load\n",
      "    return _load(\n",
      "  File \"c:\\Users\\sathw\\AppData\\Local\\Programs\\Python\\Python39\\lib\\site-packages\\torch\\serialization.py\", line 1848, in _load\n",
      "    result = unpickler.load()\n",
      "  File \"c:\\Users\\sathw\\AppData\\Local\\Programs\\Python\\Python39\\lib\\site-packages\\torch\\serialization.py\", line 1812, in persistent_load\n",
      "    typed_storage = load_tensor(\n",
      "  File \"c:\\Users\\sathw\\AppData\\Local\\Programs\\Python\\Python39\\lib\\site-packages\\torch\\serialization.py\", line 1784, in load_tensor\n",
      "    wrap_storage=restore_location(storage, location),\n",
      "  File \"c:\\Users\\sathw\\AppData\\Local\\Programs\\Python\\Python39\\lib\\site-packages\\torch\\serialization.py\", line 601, in default_restore_location\n",
      "    result = fn(storage, location)\n",
      "  File \"c:\\Users\\sathw\\AppData\\Local\\Programs\\Python\\Python39\\lib\\site-packages\\torch\\serialization.py\", line 539, in _deserialize\n",
      "    device = _validate_device(location, backend_name)\n",
      "  File \"c:\\Users\\sathw\\AppData\\Local\\Programs\\Python\\Python39\\lib\\site-packages\\torch\\serialization.py\", line 508, in _validate_device\n",
      "    raise RuntimeError(\n",
      "RuntimeError: Attempting to deserialize object on a CUDA device but torch.cuda.is_available() is False. If you are running on a CPU-only machine, please use torch.load with map_location=torch.device('cpu') to map your storages to the CPU.\n"
     ]
    }
   ],
   "source": [
    "!python -u run.py --task_name classification --is_training 0 --model_id ADSZ-Indep --model ADformer --data ADSZIndep --e_layers 6 --batch_size 32 --d_model 128 --d_ff 256 --patch_len_list 4 --up_dim_list 19 --des 'Exp' --itr 1 --enc_in 19 --num_class 2 --seq_len 128 --patch_len_list 4 --up_dim_list 19\n",
    "\n"
   ]
  }
 ],
 "metadata": {
  "kernelspec": {
   "display_name": "Python 3",
   "language": "python",
   "name": "python3"
  },
  "language_info": {
   "codemirror_mode": {
    "name": "ipython",
    "version": 3
   },
   "file_extension": ".py",
   "mimetype": "text/x-python",
   "name": "python",
   "nbconvert_exporter": "python",
   "pygments_lexer": "ipython3",
   "version": "3.9.13"
  }
 },
 "nbformat": 4,
 "nbformat_minor": 5
}
